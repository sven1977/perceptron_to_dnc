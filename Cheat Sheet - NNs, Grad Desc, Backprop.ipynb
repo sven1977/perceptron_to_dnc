{
 "cells": [
  {
   "cell_type": "markdown",
   "metadata": {},
   "source": [
    "We start with a simple NN with two input and one output node.\n",
    "\n",
    "The input features are called $x_1$ and $x_2$, the weights between input and output layer will be called $w_{11}$ and $w_{21}$, where the first index is the input node and the second index is the output node (only 1).\n",
    "\n",
    "The calculation going on in the output node is:\n",
    "\n",
    "$$h_j = \\sum_i w_{ij} x_i$$, where i is the index of the input nodes (leading to the output node) and j is the index of the output node (only one!)\n",
    "\n",
    "The output of the output node is then: $\\hat y_j = \\sigma(h_j)$, with $\\sigma$ being the activation function.\n",
    "\n",
    "The error function for such a network is:\n",
    "\n",
    "$$E = {1 \\over 2N} \\cdot \\sum_j (y_j - \\hat y_j)^2$$, with N being the number of training samples\n",
    "\n",
    "... and because j always =1 (only one output node):\n",
    "\n",
    "$$E = {1 \\over 2N} \\cdot (y-\\sigma(h_j))^2$$\n",
    "\n",
    "In a next step, we need to calculate the partial derivative of the error function $E$ over each of the 2 weights ($w_{11}$ and $w_{21}$):\n",
    "\n",
    "$${\\partial E \\over \\partial w_{11}} = (y - \\hat y) \\cdot - {1 \\over N} \\left( \\frac{\\partial \\sigma(\\sum_i w_{ij} x_i)}{\\partial w_{11}} \\right) = -{1 \\over N} (y - \\hat y) \\cdot \\frac{\\partial \\sigma(h_j)}{\\partial h_j} \\cdot \\frac{\\partial h_j}{\\partial w_{11}}= -{1 \\over N} (y - \\hat y) \\cdot \\left[ \\sigma(h_j) \\cdot (1-\\sigma(h_j)) \\right] \\cdot x_i$$\n",
    "\n",
    "because $\\sigma^\\prime = \\sigma \\cdot (1 - \\sigma)$\n",
    "\n",
    "We can also write the terms $\\left[ \\sigma(h_j) \\cdot (1-\\sigma(h_j)) \\right] = f^\\prime(h_j)$ as well as $\\delta_j = (y_j - \\hat y_j) \\cdot f^\\prime(h_j)$\n",
    "\n",
    "$\\delta$ is also called the gradient error of node j in the output layer.\n",
    "\n",
    "With this, we can now update our weights in a single training step:\n",
    "\n",
    "$$\\Delta w_{ij} = $$\n"
   ]
  }
 ],
 "metadata": {
  "kernelspec": {
   "display_name": "Python 3",
   "language": "python",
   "name": "python3"
  },
  "language_info": {
   "codemirror_mode": {
    "name": "ipython",
    "version": 3
   },
   "file_extension": ".py",
   "mimetype": "text/x-python",
   "name": "python",
   "nbconvert_exporter": "python",
   "pygments_lexer": "ipython3",
   "version": "3.5.2"
  }
 },
 "nbformat": 4,
 "nbformat_minor": 2
}
